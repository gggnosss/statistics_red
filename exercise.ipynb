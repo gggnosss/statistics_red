{
 "cells": [
  {
   "cell_type": "code",
   "execution_count": 1,
   "metadata": {
    "ExecuteTime": {
     "end_time": "2020-03-03T02:00:29.682378Z",
     "start_time": "2020-03-03T02:00:25.975298Z"
    }
   },
   "outputs": [],
   "source": [
    "import numpy as np\n",
    "import scipy.stats as ss"
   ]
  },
  {
   "cell_type": "markdown",
   "metadata": {},
   "source": [
    "# 第11章"
   ]
  },
  {
   "cell_type": "code",
   "execution_count": 26,
   "metadata": {
    "ExecuteTime": {
     "end_time": "2020-03-02T11:36:35.802505Z",
     "start_time": "2020-03-02T11:36:35.666779Z"
    }
   },
   "outputs": [
    {
     "name": "stdout",
     "output_type": "stream",
     "text": [
      "95%信頼区間は、[-0.442,-0.010]である。\n"
     ]
    }
   ],
   "source": [
    "# 11.5\n",
    "contrast = np.array([7.97,7.66,7.59,8.44,8.05,8.08,8.35,7.77,7.98,8.15])\n",
    "control  = np.array([8.06,8.27,8.45,8.05,8.51,8.14,8.09,8.15,8.16,8.42])\n",
    "\n",
    "contrast_mean = np.mean(contrast)\n",
    "control_mean  = np.mean(control)\n",
    "\n",
    "sum_diff_mean_contrast = np.sum((contrast - contrast_mean)**2)\n",
    "sum_diff_mean_control  = np.sum((control  - control_mean)**2)\n",
    "\n",
    "s = np.sqrt((sum_diff_mean_contrast+sum_diff_mean_control)/(len(contrast)+len(control)-2))\n",
    "\n",
    "t1,t2 = -ss.t.ppf(1-0.05/2,df=len(contrast)+len(control)-2),ss.t.ppf(1-0.05/2,df=len(contrast)+len(control)-2)\n",
    "\n",
    "left  = contrast_mean - control_mean + t1*s*np.sqrt(1/len(contrast)+1/len(control))\n",
    "right = contrast_mean - control_mean + t2*s*np.sqrt(1/len(contrast)+1/len(control))\n",
    "print('95%信頼区間は、[{0:.3f},{1:.3f}]である。'.format(left,right))"
   ]
  },
  {
   "cell_type": "code",
   "execution_count": 46,
   "metadata": {
    "ExecuteTime": {
     "end_time": "2020-03-02T11:48:53.165730Z",
     "start_time": "2020-03-02T11:48:52.979606Z"
    }
   },
   "outputs": [
    {
     "name": "stdout",
     "output_type": "stream",
     "text": [
      "νは、7.988なので、自由度は8\n",
      "95%信頼区間は、[0.442,7.558]である。\n"
     ]
    }
   ],
   "source": [
    "# 11.6\n",
    "normal = np.array([25,24,25,26])\n",
    "kanben = np.array([23,18,22,28,17,25,19,16])\n",
    "\n",
    "m = len(normal)\n",
    "n = len(kanben)\n",
    "\n",
    "normal_mean = np.mean(normal)\n",
    "kanben_mean = np.mean(kanben)\n",
    "\n",
    "s1,s2 = np.sqrt(np.sum((normal-normal_mean)**2)/(m-1)),np.sqrt(np.sum((kanben-kanben_mean)**2)/(n-1))\n",
    "\n",
    "nu = (s1**2/m + s2**2/n)**2 / ((s1**2/m)**2/(m-1) + ((s2**2/n)**2/(n-1)))\n",
    "print('νは、{0:.3f}なので、自由度は{1:.0f}'.format(nu,round(nu)))\n",
    "\n",
    "t = ss.t.ppf(1-0.05/2,df=round(nu))\n",
    "left  = normal_mean-kanben_mean-t*np.sqrt(s1**2/m+s2**2/n)\n",
    "right = normal_mean-kanben_mean+t*np.sqrt(s1**2/m+s2**2/n)\n",
    "print('95%信頼区間は、[{0:.3f},{1:.3f}]である。'.format(left,right))"
   ]
  },
  {
   "cell_type": "code",
   "execution_count": 3,
   "metadata": {
    "ExecuteTime": {
     "end_time": "2020-03-03T02:03:58.940490Z",
     "start_time": "2020-03-03T02:03:58.919841Z"
    }
   },
   "outputs": [
    {
     "name": "stdout",
     "output_type": "stream",
     "text": [
      "99%信頼区間は、[22.779,25.641]である。\n"
     ]
    }
   ],
   "source": [
    "# 11.7 (1)\n",
    "tokyo = np.array([21.8,22.4,22.7,24.5,25.9,24.9,24.8,25.3,25.2,24.6])\n",
    "\n",
    "mean_tokyo = np.mean(tokyo)\n",
    "n = len(tokyo)\n",
    "t = ss.t.ppf(1-0.01/2,df=n-1)\n",
    "s = np.sqrt(np.sum((tokyo-mean_tokyo)**2)/(n-1))\n",
    "\n",
    "left  = mean_tokyo - t*s/np.sqrt(n)\n",
    "right = mean_tokyo + t*s/np.sqrt(n)\n",
    "print('99%信頼区間は、[{0:.3f},{1:.3f}]である。'.format(left,right))"
   ]
  },
  {
   "cell_type": "code",
   "execution_count": 6,
   "metadata": {
    "ExecuteTime": {
     "end_time": "2020-03-03T02:22:22.825899Z",
     "start_time": "2020-03-03T02:22:22.810221Z"
    }
   },
   "outputs": [
    {
     "name": "stdout",
     "output_type": "stream",
     "text": [
      "95%信頼区間は、[0.917,6.462]である。\n"
     ]
    }
   ],
   "source": [
    "# 11.7 (2)\n",
    "chi1,chi2 = ss.chi2.ppf(0.025,n-1),ss.chi2.ppf(0.975,n-1)\n",
    "\n",
    "left  = (n-1)*s**2/chi2\n",
    "right = (n-1)*s**2/chi1\n",
    "print('95%信頼区間は、[{0:.3f},{1:.3f}]である。'.format(left,right))"
   ]
  },
  {
   "cell_type": "code",
   "execution_count": 7,
   "metadata": {
    "ExecuteTime": {
     "end_time": "2020-03-03T02:27:40.862403Z",
     "start_time": "2020-03-03T02:27:40.851564Z"
    }
   },
   "outputs": [
    {
     "name": "stdout",
     "output_type": "stream",
     "text": [
      "95%信頼区間は、[-1.427,0.887]である。\n"
     ]
    }
   ],
   "source": [
    "\"\"\"# 11.7 (3)\n",
    "osaka = np.array([22.1,25.3,23.3,25.2,25.3,24.9,24.9,24.9,24.9,24.0])\n",
    "mean_osaka = np.mean(osaka)\n",
    "m = len(tokyo)\n",
    "n = len(osaka)\n",
    "s = np.sqrt((np.sum((tokyo-mean_tokyo)**2)+np.sum((osaka-mean_osaka)**2))/(m+n-2))\n",
    "\n",
    "t = ss.t.ppf(1-0.05/2,df=(m+n-2))\n",
    "\n",
    "left  = mean_tokyo-mean_osaka-t*s*np.sqrt(1/m+1/n)\n",
    "right = mean_tokyo-mean_osaka+t*s*np.sqrt(1/m+1/n)\n",
    "print('95%信頼区間は、[{0:.3f},{1:.3f}]である。'.format(left,right))\"\"\""
   ]
  },
  {
   "cell_type": "code",
   "execution_count": 8,
   "metadata": {
    "ExecuteTime": {
     "end_time": "2020-03-03T02:31:13.722715Z",
     "start_time": "2020-03-03T02:31:13.708815Z"
    }
   },
   "outputs": [
    {
     "name": "stdout",
     "output_type": "stream",
     "text": [
      "95%信頼区間は、[-1.009,0.469]である。\n"
     ]
    }
   ],
   "source": [
    "# 11.7 (3)\n",
    "osaka = np.array([22.1,25.3,23.3,25.2,25.3,24.9,24.9,24.9,24.9,24.0])\n",
    "diff_tokyo_osaka = tokyo - osaka\n",
    "mean_diff = np.mean(diff_tokyo_osaka)\n",
    "n = len(diff_tokyo_osaka)\n",
    "s = np.sqrt(np.sum((diff_tokyo_osaka-mean_diff)**2)/(n-1))\n",
    "\n",
    "t = ss.t.ppf(1-0.05/2,df=(n-1))\n",
    "\n",
    "left  = mean_diff-t*s*np.sqrt(1/n)\n",
    "right = mean_diff+t*s*np.sqrt(1/n)\n",
    "print('95%信頼区間は、[{0:.3f},{1:.3f}]である。'.format(left,right))"
   ]
  },
  {
   "cell_type": "code",
   "execution_count": 15,
   "metadata": {
    "ExecuteTime": {
     "end_time": "2020-03-03T03:53:03.687636Z",
     "start_time": "2020-03-03T03:53:03.638117Z"
    }
   },
   "outputs": [
    {
     "name": "stdout",
     "output_type": "stream",
     "text": [
      "95%信頼区間は、[0.402,0.678]である。\n"
     ]
    }
   ],
   "source": [
    "# 11.8\n",
    "x = np.array([0]*23+[1]*27)\n",
    "mean_x = np.mean(x)\n",
    "n = len(x)\n",
    "z = ss.norm.ppf(0.975)\n",
    "\n",
    "left  = mean_x - z*np.sqrt(mean_x*(1-mean_x)/n)\n",
    "right = mean_x + z*np.sqrt(mean_x*(1-mean_x)/n)\n",
    "print('95%信頼区間は、[{0:.3f},{1:.3f}]である。'.format(left,right))"
   ]
  },
  {
   "cell_type": "code",
   "execution_count": 19,
   "metadata": {
    "ExecuteTime": {
     "end_time": "2020-03-03T03:58:47.013688Z",
     "start_time": "2020-03-03T03:58:46.991006Z"
    }
   },
   "outputs": [
    {
     "name": "stdout",
     "output_type": "stream",
     "text": [
      "99%信頼区間は、[3.015,6.585]である。\n"
     ]
    }
   ],
   "source": [
    "# 11.9\n",
    "x = np.array([4,3,5,4,8,2,5,9,3,5])\n",
    "mean_x = np.mean(x)\n",
    "n = len(x)\n",
    "z = ss.norm.ppf(0.995)\n",
    "\n",
    "left  = mean_x - z*np.sqrt(mean_x/n)\n",
    "right = mean_x + z*np.sqrt(mean_x/n)\n",
    "print('99%信頼区間は、[{0:.3f},{1:.3f}]である。'.format(left,right))"
   ]
  },
  {
   "cell_type": "code",
   "execution_count": 14,
   "metadata": {
    "ExecuteTime": {
     "end_time": "2020-03-03T03:51:20.362289Z",
     "start_time": "2020-03-03T03:51:20.350497Z"
    }
   },
   "outputs": [
    {
     "data": {
      "text/plain": [
       "0.0"
      ]
     },
     "execution_count": 14,
     "metadata": {},
     "output_type": "execute_result"
    }
   ],
   "source": [
    "ss.norm.ppf(0.5)"
   ]
  },
  {
   "cell_type": "code",
   "execution_count": null,
   "metadata": {},
   "outputs": [],
   "source": []
  },
  {
   "cell_type": "code",
   "execution_count": null,
   "metadata": {},
   "outputs": [],
   "source": []
  },
  {
   "cell_type": "code",
   "execution_count": null,
   "metadata": {},
   "outputs": [],
   "source": []
  },
  {
   "cell_type": "code",
   "execution_count": 19,
   "metadata": {
    "ExecuteTime": {
     "end_time": "2020-03-02T11:29:12.165077Z",
     "start_time": "2020-03-02T11:29:12.145064Z"
    }
   },
   "outputs": [
    {
     "data": {
      "text/plain": [
       "2.093024054408263"
      ]
     },
     "execution_count": 19,
     "metadata": {},
     "output_type": "execute_result"
    }
   ],
   "source": [
    "ss.t.ppf(0.975,19)"
   ]
  },
  {
   "cell_type": "code",
   "execution_count": 14,
   "metadata": {
    "ExecuteTime": {
     "end_time": "2020-03-02T11:23:55.158239Z",
     "start_time": "2020-03-02T11:23:55.056172Z"
    }
   },
   "outputs": [],
   "source": [
    "# scipy.stats.t.ppf() -> t分布のパーセント点を返してくれるメソッド\n",
    "def interval_t(alpha, x, mu, sigmma, n, tile=\"one\"):\n",
    "    import numpy as np\n",
    "    import scipy.stats as ss\n",
    "    import math\n",
    "    t = (x - mu) / (sigmma/np.sqrt(n-1))\n",
    "    t_critical_value = []\n",
    "    if tile == \"one\":\n",
    "        t_critical_value.append(ss.t.ppf(1-alpha, df=n-1))\n",
    "    if tile == \"two\":\n",
    "        # 両側検定なので、棄却域を/2している\n",
    "        t_critical_value.append(ss.t.ppf(1-alpha/2, df=n-1))\n",
    "        t_critical_value.append(-ss.t.ppf(1-alpha/2, df=n-1))\n",
    "    else:\n",
    "        print(\"Tile option error. tile option is only \\'{0}\\' or \\'{1}\\' \".format(\"one\", \"two\"))\n",
    "        return\n",
    "    return t, t_critical_value\n"
   ]
  },
  {
   "cell_type": "code",
   "execution_count": 16,
   "metadata": {
    "ExecuteTime": {
     "end_time": "2020-03-02T11:24:32.623577Z",
     "start_time": "2020-03-02T11:24:32.600560Z"
    }
   },
   "outputs": [
    {
     "data": {
      "text/plain": [
       "0.24164023450998273"
      ]
     },
     "execution_count": 16,
     "metadata": {},
     "output_type": "execute_result"
    }
   ],
   "source": [
    "ss.t.pdf(1-0.05/2,df=19)"
   ]
  },
  {
   "cell_type": "code",
   "execution_count": 17,
   "metadata": {
    "ExecuteTime": {
     "end_time": "2020-03-02T11:24:54.426977Z",
     "start_time": "2020-03-02T11:24:54.407970Z"
    }
   },
   "outputs": [
    {
     "data": {
      "text/plain": [
       "[2.093024054408263, -2.093024054408263]"
      ]
     },
     "execution_count": 17,
     "metadata": {},
     "output_type": "execute_result"
    }
   ],
   "source": [
    "t_critical_value"
   ]
  },
  {
   "cell_type": "code",
   "execution_count": 15,
   "metadata": {
    "ExecuteTime": {
     "end_time": "2020-03-02T11:24:07.559398Z",
     "start_time": "2020-03-02T11:24:07.491908Z"
    }
   },
   "outputs": [
    {
     "name": "stdout",
     "output_type": "stream",
     "text": [
      "t value: -0.614\n",
      "t critical velue: -2.093 < t < 2.093\n"
     ]
    }
   ],
   "source": [
    "t, t_critical_value = interval_t(0.05, 25.29, 25.5,1.49, 20, tile=\"two\")\n",
    "print(\"t value: {:.3f}\".format(t))\n",
    "if len(t_critical_value) > 1:\n",
    "     print(\"t critical velue: {1:.3f} < t < {0:.3f}\".format(t_critical_value[0], t_critical_value[1]))\n",
    "else:\n",
    "    print(\"t critical velue: {0:.3f}\".format(t_critical_value))"
   ]
  }
 ],
 "metadata": {
  "kernelspec": {
   "display_name": "Python 3",
   "language": "python",
   "name": "python3"
  },
  "language_info": {
   "codemirror_mode": {
    "name": "ipython",
    "version": 3
   },
   "file_extension": ".py",
   "mimetype": "text/x-python",
   "name": "python",
   "nbconvert_exporter": "python",
   "pygments_lexer": "ipython3",
   "version": "3.7.3"
  },
  "toc": {
   "base_numbering": 1,
   "nav_menu": {},
   "number_sections": false,
   "sideBar": true,
   "skip_h1_title": false,
   "title_cell": "Table of Contents",
   "title_sidebar": "Contents",
   "toc_cell": false,
   "toc_position": {},
   "toc_section_display": true,
   "toc_window_display": false
  }
 },
 "nbformat": 4,
 "nbformat_minor": 2
}

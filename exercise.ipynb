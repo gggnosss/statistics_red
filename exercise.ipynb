{
 "cells": [
  {
   "cell_type": "code",
   "execution_count": 1,
   "metadata": {
    "ExecuteTime": {
     "end_time": "2020-03-04T05:38:29.398906Z",
     "start_time": "2020-03-04T05:38:27.663583Z"
    }
   },
   "outputs": [],
   "source": [
    "import numpy as np\n",
    "import scipy.stats as ss"
   ]
  },
  {
   "cell_type": "markdown",
   "metadata": {},
   "source": [
    "# 第11章"
   ]
  },
  {
   "cell_type": "code",
   "execution_count": 26,
   "metadata": {
    "ExecuteTime": {
     "end_time": "2020-03-02T11:36:35.802505Z",
     "start_time": "2020-03-02T11:36:35.666779Z"
    }
   },
   "outputs": [
    {
     "name": "stdout",
     "output_type": "stream",
     "text": [
      "95%信頼区間は、[-0.442,-0.010]である。\n"
     ]
    }
   ],
   "source": [
    "# 11.5\n",
    "contrast = np.array([7.97,7.66,7.59,8.44,8.05,8.08,8.35,7.77,7.98,8.15])\n",
    "control  = np.array([8.06,8.27,8.45,8.05,8.51,8.14,8.09,8.15,8.16,8.42])\n",
    "\n",
    "contrast_mean = np.mean(contrast)\n",
    "control_mean  = np.mean(control)\n",
    "\n",
    "sum_diff_mean_contrast = np.sum((contrast - contrast_mean)**2)\n",
    "sum_diff_mean_control  = np.sum((control  - control_mean)**2)\n",
    "\n",
    "s = np.sqrt((sum_diff_mean_contrast+sum_diff_mean_control)/(len(contrast)+len(control)-2))\n",
    "\n",
    "t1,t2 = -ss.t.ppf(1-0.05/2,df=len(contrast)+len(control)-2),ss.t.ppf(1-0.05/2,df=len(contrast)+len(control)-2)\n",
    "\n",
    "left  = contrast_mean - control_mean + t1*s*np.sqrt(1/len(contrast)+1/len(control))\n",
    "right = contrast_mean - control_mean + t2*s*np.sqrt(1/len(contrast)+1/len(control))\n",
    "print('95%信頼区間は、[{0:.3f},{1:.3f}]である。'.format(left,right))"
   ]
  },
  {
   "cell_type": "code",
   "execution_count": 46,
   "metadata": {
    "ExecuteTime": {
     "end_time": "2020-03-02T11:48:53.165730Z",
     "start_time": "2020-03-02T11:48:52.979606Z"
    }
   },
   "outputs": [
    {
     "name": "stdout",
     "output_type": "stream",
     "text": [
      "νは、7.988なので、自由度は8\n",
      "95%信頼区間は、[0.442,7.558]である。\n"
     ]
    }
   ],
   "source": [
    "# 11.6\n",
    "normal = np.array([25,24,25,26])\n",
    "kanben = np.array([23,18,22,28,17,25,19,16])\n",
    "\n",
    "m = len(normal)\n",
    "n = len(kanben)\n",
    "\n",
    "normal_mean = np.mean(normal)\n",
    "kanben_mean = np.mean(kanben)\n",
    "\n",
    "s1,s2 = np.sqrt(np.sum((normal-normal_mean)**2)/(m-1)),np.sqrt(np.sum((kanben-kanben_mean)**2)/(n-1))\n",
    "\n",
    "nu = (s1**2/m + s2**2/n)**2 / ((s1**2/m)**2/(m-1) + ((s2**2/n)**2/(n-1)))\n",
    "print('νは、{0:.3f}なので、自由度は{1:.0f}'.format(nu,round(nu)))\n",
    "\n",
    "t = ss.t.ppf(1-0.05/2,df=round(nu))\n",
    "left  = normal_mean-kanben_mean-t*np.sqrt(s1**2/m+s2**2/n)\n",
    "right = normal_mean-kanben_mean+t*np.sqrt(s1**2/m+s2**2/n)\n",
    "print('95%信頼区間は、[{0:.3f},{1:.3f}]である。'.format(left,right))"
   ]
  },
  {
   "cell_type": "code",
   "execution_count": 3,
   "metadata": {
    "ExecuteTime": {
     "end_time": "2020-03-03T02:03:58.940490Z",
     "start_time": "2020-03-03T02:03:58.919841Z"
    }
   },
   "outputs": [
    {
     "name": "stdout",
     "output_type": "stream",
     "text": [
      "99%信頼区間は、[22.779,25.641]である。\n"
     ]
    }
   ],
   "source": [
    "# 11.7 (1)\n",
    "tokyo = np.array([21.8,22.4,22.7,24.5,25.9,24.9,24.8,25.3,25.2,24.6])\n",
    "\n",
    "mean_tokyo = np.mean(tokyo)\n",
    "n = len(tokyo)\n",
    "t = ss.t.ppf(1-0.01/2,df=n-1)\n",
    "s = np.sqrt(np.sum((tokyo-mean_tokyo)**2)/(n-1))\n",
    "\n",
    "left  = mean_tokyo - t*s/np.sqrt(n)\n",
    "right = mean_tokyo + t*s/np.sqrt(n)\n",
    "print('99%信頼区間は、[{0:.3f},{1:.3f}]である。'.format(left,right))"
   ]
  },
  {
   "cell_type": "code",
   "execution_count": 6,
   "metadata": {
    "ExecuteTime": {
     "end_time": "2020-03-03T02:22:22.825899Z",
     "start_time": "2020-03-03T02:22:22.810221Z"
    }
   },
   "outputs": [
    {
     "name": "stdout",
     "output_type": "stream",
     "text": [
      "95%信頼区間は、[0.917,6.462]である。\n"
     ]
    }
   ],
   "source": [
    "# 11.7 (2)\n",
    "chi1,chi2 = ss.chi2.ppf(0.025,n-1),ss.chi2.ppf(0.975,n-1)\n",
    "\n",
    "left  = (n-1)*s**2/chi2\n",
    "right = (n-1)*s**2/chi1\n",
    "print('95%信頼区間は、[{0:.3f},{1:.3f}]である。'.format(left,right))"
   ]
  },
  {
   "cell_type": "code",
   "execution_count": 7,
   "metadata": {
    "ExecuteTime": {
     "end_time": "2020-03-03T02:27:40.862403Z",
     "start_time": "2020-03-03T02:27:40.851564Z"
    }
   },
   "outputs": [
    {
     "name": "stdout",
     "output_type": "stream",
     "text": [
      "95%信頼区間は、[-1.427,0.887]である。\n"
     ]
    }
   ],
   "source": [
    "\"\"\"# 11.7 (3)\n",
    "osaka = np.array([22.1,25.3,23.3,25.2,25.3,24.9,24.9,24.9,24.9,24.0])\n",
    "mean_osaka = np.mean(osaka)\n",
    "m = len(tokyo)\n",
    "n = len(osaka)\n",
    "s = np.sqrt((np.sum((tokyo-mean_tokyo)**2)+np.sum((osaka-mean_osaka)**2))/(m+n-2))\n",
    "\n",
    "t = ss.t.ppf(1-0.05/2,df=(m+n-2))\n",
    "\n",
    "left  = mean_tokyo-mean_osaka-t*s*np.sqrt(1/m+1/n)\n",
    "right = mean_tokyo-mean_osaka+t*s*np.sqrt(1/m+1/n)\n",
    "print('95%信頼区間は、[{0:.3f},{1:.3f}]である。'.format(left,right))\"\"\""
   ]
  },
  {
   "cell_type": "code",
   "execution_count": 8,
   "metadata": {
    "ExecuteTime": {
     "end_time": "2020-03-03T02:31:13.722715Z",
     "start_time": "2020-03-03T02:31:13.708815Z"
    }
   },
   "outputs": [
    {
     "name": "stdout",
     "output_type": "stream",
     "text": [
      "95%信頼区間は、[-1.009,0.469]である。\n"
     ]
    }
   ],
   "source": [
    "# 11.7 (3)\n",
    "osaka = np.array([22.1,25.3,23.3,25.2,25.3,24.9,24.9,24.9,24.9,24.0])\n",
    "diff_tokyo_osaka = tokyo - osaka\n",
    "mean_diff = np.mean(diff_tokyo_osaka)\n",
    "n = len(diff_tokyo_osaka)\n",
    "s = np.sqrt(np.sum((diff_tokyo_osaka-mean_diff)**2)/(n-1))\n",
    "\n",
    "t = ss.t.ppf(1-0.05/2,df=(n-1))\n",
    "\n",
    "left  = mean_diff-t*s*np.sqrt(1/n)\n",
    "right = mean_diff+t*s*np.sqrt(1/n)\n",
    "print('95%信頼区間は、[{0:.3f},{1:.3f}]である。'.format(left,right))"
   ]
  },
  {
   "cell_type": "code",
   "execution_count": 15,
   "metadata": {
    "ExecuteTime": {
     "end_time": "2020-03-03T03:53:03.687636Z",
     "start_time": "2020-03-03T03:53:03.638117Z"
    }
   },
   "outputs": [
    {
     "name": "stdout",
     "output_type": "stream",
     "text": [
      "95%信頼区間は、[0.402,0.678]である。\n"
     ]
    }
   ],
   "source": [
    "# 11.8\n",
    "x = np.array([0]*23+[1]*27)\n",
    "mean_x = np.mean(x)\n",
    "n = len(x)\n",
    "z = ss.norm.ppf(0.975)\n",
    "\n",
    "left  = mean_x - z*np.sqrt(mean_x*(1-mean_x)/n)\n",
    "right = mean_x + z*np.sqrt(mean_x*(1-mean_x)/n)\n",
    "print('95%信頼区間は、[{0:.3f},{1:.3f}]である。'.format(left,right))"
   ]
  },
  {
   "cell_type": "code",
   "execution_count": 19,
   "metadata": {
    "ExecuteTime": {
     "end_time": "2020-03-03T03:58:47.013688Z",
     "start_time": "2020-03-03T03:58:46.991006Z"
    }
   },
   "outputs": [
    {
     "name": "stdout",
     "output_type": "stream",
     "text": [
      "99%信頼区間は、[3.015,6.585]である。\n"
     ]
    }
   ],
   "source": [
    "# 11.9\n",
    "x = np.array([4,3,5,4,8,2,5,9,3,5])\n",
    "mean_x = np.mean(x)\n",
    "n = len(x)\n",
    "z = ss.norm.ppf(0.995)\n",
    "\n",
    "left  = mean_x - z*np.sqrt(mean_x/n)\n",
    "right = mean_x + z*np.sqrt(mean_x/n)\n",
    "print('99%信頼区間は、[{0:.3f},{1:.3f}]である。'.format(left,right))"
   ]
  },
  {
   "cell_type": "markdown",
   "metadata": {},
   "source": [
    "# 第12章"
   ]
  },
  {
   "cell_type": "code",
   "execution_count": 3,
   "metadata": {
    "ExecuteTime": {
     "end_time": "2020-03-04T05:43:35.688780Z",
     "start_time": "2020-03-04T05:43:35.681157Z"
    }
   },
   "outputs": [],
   "source": [
    "def print_test_res(test_type,val,stat):\n",
    "    print('{0}統計量は{1:.3f},閾値は{2:.3f}'.format(test_type,val,stat))\n",
    "    if abs(val) > stat:\n",
    "        print('->棄却')\n",
    "    else:\n",
    "        print('->棄却できない')"
   ]
  },
  {
   "cell_type": "code",
   "execution_count": 14,
   "metadata": {
    "ExecuteTime": {
     "end_time": "2020-03-03T08:14:09.093340Z",
     "start_time": "2020-03-03T08:14:09.082277Z"
    }
   },
   "outputs": [
    {
     "name": "stdout",
     "output_type": "stream",
     "text": [
      "t統計量は1.891,閾値は2.262\n",
      "->棄却できない\n"
     ]
    }
   ],
   "source": [
    "# 12.1\n",
    "x = np.array([101.1,103.2,102.1,99.2,100.5,101.3,99.7,100.5,98.9,101.4])\n",
    "n = len(x)\n",
    "\n",
    "# 母分散が未知→t検定\n",
    "mean_x = np.mean(x)\n",
    "s = np.sqrt(np.var(x,ddof=1))\n",
    "t_ = ss.t.ppf(1-0.05/2,df=n-1)\n",
    "t = (mean_x-100)/(s/np.sqrt(n))\n",
    "print_test_res('t',t,t_)"
   ]
  },
  {
   "cell_type": "code",
   "execution_count": 21,
   "metadata": {
    "ExecuteTime": {
     "end_time": "2020-03-03T08:37:11.117561Z",
     "start_time": "2020-03-03T08:37:11.088103Z"
    },
    "scrolled": true
   },
   "outputs": [
    {
     "name": "stdout",
     "output_type": "stream",
     "text": [
      "母平均が等しいかの検定\n",
      "\n",
      "1. 母分散が等しいと仮定→t検定\n",
      "\n",
      "t統計量は3.607,閾値は2.101\n",
      "->棄却\n",
      "\n",
      "2. 母分散が等しくないと仮定→ウェルチの検定\n",
      "\n",
      "νは、17.170なので、自由度は17\n",
      "t統計量は3.607,閾値は2.110\n",
      "->棄却\n",
      "\n",
      "母分散が等しいかの検定\n",
      "\n",
      "F統計量は1.564,閾値は0.153,6.541\n",
      "->棄却できない\n"
     ]
    }
   ],
   "source": [
    "# 12.2\n",
    "m_wage = np.array([15.4,18.3,16.5,17.4,18.9,17.2,15.0,15.7,17.9,16.5])\n",
    "f_wage = np.array([14.2,15.9,16.0,14.0,17.0,13.8,15.2,14.5,15.0,14.4])\n",
    "m = len(m_wage)\n",
    "n = len(f_wage)\n",
    "\n",
    "# H_0 : m_wage_mean == f_wage_mean H_1 : m_wage_mean != f_wage_mean H_1\n",
    "\n",
    "print('母平均が等しいかの検定\\n')\n",
    "print('1. 母分散が等しいと仮定→t検定\\n')\n",
    "s = np.sqrt(((m-1)*np.var(m_wage,ddof=1)+(n-1)*np.var(f_wage,ddof=1))/(m+n-2))\n",
    "t = (np.mean(m_wage) - np.mean(f_wage)) / (s*np.sqrt(1/m+1/n))\n",
    "t_ = ss.t.ppf(1-0.05/2,df=m+n-2)\n",
    "print_test_res('t',t,t_)\n",
    "    \n",
    "print('\\n2. 母分散が等しくないと仮定→ウェルチの検定\\n')\n",
    "sigma_m = np.var(m_wage,ddof=1)\n",
    "sigma_f = np.var(f_wage,ddof=1)\n",
    "t = (np.mean(m_wage) - np.mean(f_wage)) / np.sqrt(sigma_m/m+sigma_f/n)\n",
    "nu = (sigma_m/m + sigma_f/n)**2 / ((sigma_m/m)**2/(m-1) + ((sigma_f/n)**2/(n-1)))\n",
    "print('νは、{0:.3f}なので、自由度は{1:.0f}'.format(nu,round(nu)))\n",
    "t_ = ss.t.ppf(1-0.05/2,df=round(nu))\n",
    "print_test_res('t',t,t_)\n",
    "\n",
    "print('\\n母分散が等しいかの検定\\n')\n",
    "F = sigma_m / sigma_f\n",
    "F_1 = ss.f.ppf(0.01/2,m-1,n-1)\n",
    "F_2 = ss.f.ppf(1-0.01/2,m-1,n-1)\n",
    "print('F統計量は{0:.3f},閾値は{1:.3f},{2:.3f}'.format(F,F_1,F_2))\n",
    "if F < F_1 or F > F_2:\n",
    "    print('->棄却')\n",
    "else:\n",
    "    print('->棄却できない')"
   ]
  },
  {
   "cell_type": "code",
   "execution_count": 6,
   "metadata": {
    "ExecuteTime": {
     "end_time": "2020-03-04T05:45:11.333169Z",
     "start_time": "2020-03-04T05:45:11.314973Z"
    }
   },
   "outputs": [
    {
     "name": "stdout",
     "output_type": "stream",
     "text": [
      "H0:母平均=0, H1:母平均<0の検定, 母分散が未知なのでt検定\n",
      "t統計量は-1.560,閾値は2.718\n",
      "->棄却できない\n"
     ]
    }
   ],
   "source": [
    "# 12.3\n",
    "x = np.array([2,-5,-4,-8,3,0,3,-6,-2,1,0,-4])\n",
    "n = len(x)\n",
    "\n",
    "print('H0:母平均=0, H1:母平均<0の検定, 母分散が未知なのでt検定')\n",
    "s = np.sqrt(np.var(x,ddof=1))\n",
    "t = np.mean(x) / (s/np.sqrt(n))\n",
    "t_ = ss.t.ppf(1-0.01,df=n-1)\n",
    "print_test_res('t',t,t_)"
   ]
  },
  {
   "cell_type": "code",
   "execution_count": 11,
   "metadata": {
    "ExecuteTime": {
     "end_time": "2020-03-04T05:52:50.839864Z",
     "start_time": "2020-03-04T05:52:50.810487Z"
    }
   },
   "outputs": [
    {
     "name": "stdout",
     "output_type": "stream",
     "text": [
      "適合度のχ二乗検定\n",
      "chi2統計量は2.080,閾値は11.070\n",
      "->棄却できない\n"
     ]
    }
   ],
   "source": [
    "# 12.4\n",
    "x = np.array([10,7,8,11,6,8])\n",
    "alpha = 0.05\n",
    "k = len(x)\n",
    "\n",
    "print('適合度のχ二乗検定')\n",
    "p_ = np.array([50*1/6]*6)\n",
    "chi2 = np.sum((x-p_)**2/p_)\n",
    "chi2_ = ss.chi2.ppf(1-alpha,df=k-1)\n",
    "print_test_res('chi2',chi2,chi2_)"
   ]
  },
  {
   "cell_type": "code",
   "execution_count": 44,
   "metadata": {
    "ExecuteTime": {
     "end_time": "2020-03-04T06:27:16.828757Z",
     "start_time": "2020-03-04T06:27:16.798952Z"
    }
   },
   "outputs": [
    {
     "name": "stdout",
     "output_type": "stream",
     "text": [
      "適合度のχ二乗検定\n",
      "\n",
      "1. 任意の100桁\n",
      "π\n",
      "chi2統計量は20.800,閾値は16.919\n",
      "->棄却\n",
      "e\n",
      "chi2統計量は12.800,閾値は16.919\n",
      "->棄却できない\n",
      "\n",
      "2. 全1001桁\n",
      "π\n",
      "chi2統計量は4.784,閾値は16.919\n",
      "->棄却できない\n",
      "e\n",
      "chi2統計量は4.804,閾値は16.919\n",
      "->棄却できない\n"
     ]
    }
   ],
   "source": [
    "# 12.5\n",
    "pi = 31415926535897932384626433832795028841971693993751058209749445923078164062862089986280348253421170679821480865132823066470938446095505822317253594081284811174502841027019385211055596446229489549303819644288109756659334461284756482337867831652712019091456485669234603486104543266482133936072602491412737245870066063155881748815209209628292540917153643678925903600113305305488204665213841469519415116094330572703657595919530921861173819326117931051185480744623799627495673518857527248912279381830119491298336733624406566430860213949463952247371907021798609437027705392171762931767523846748184676694051320005681271452635608277857713427577896091736371787214684409012249534301465495853710507922796892589235420199561121290219608640344181598136297747713099605187072113499999983729780499510597317328160963185950244594553469083026425223082533446850352619311881710100031378387528865875332083814206171776691473035982534904287554687311595628638823537875937519577818577805321712268066130019278766111959092164201989\n",
    "e  = 27182818284590452353602874713526624977572470936999595749669676277240766303535475945713821785251664274274663919320030599218174135966290435729003342952605956307381323286279434907632338298807531952510190115738341879307021540891499348841675092447614606680822648001684774118537423454424371075390777449920695517027618386062613313845830007520449338265602976067371132007093287091274437470472306969772093101416928368190255151086574637721112523897844250569536967707854499699679468644549059879316368892300987931277361782154249992295763514822082698951936680331825288693984964651058209392398294887933203625094431173012381970684161403970198376793206832823764648042953118023287825098194558153017567173613320698112509961818815930416903515988885193458072738667385894228792284998920868058257492796104841984443634632449684875602336248270419786232090021609902353043699418491463140934317381436405462531520961836908887070167683964243781405927145635490613031072085103837505101157477041718986106873969655212671546889570350354\n",
    "alpha = 0.05\n",
    "\n",
    "print('適合度のχ二乗検定\\n')\n",
    "print('1. 任意の100桁')\n",
    "\n",
    "np.random.seed(0)\n",
    "random_idx = np.random.randint(0,900)\n",
    "pi_100 = list(str(pi))[random_idx:random_idx+100]\n",
    "e_100  = list(str(e))[random_idx:random_idx+100]\n",
    "\n",
    "def chi2_test_tekigou(lst,alpha):\n",
    "    import collections\n",
    "    dic = collections.Counter(lst)\n",
    "    x = list(dic.values())\n",
    "    k = len(x)\n",
    "    if k != 10:\n",
    "        return '100個の中に含まれていない数字があるのでやり直し'\n",
    "    p_ = np.array(len(lst) / k)\n",
    "    chi2 = np.sum((x-p_)**2/p_)\n",
    "    chi2_ = ss.chi2.ppf(1-alpha,df=k-1)\n",
    "    print_test_res('chi2',chi2,chi2_)\n",
    "\n",
    "print('π')\n",
    "chi2_test_tekigou(pi_100,alpha)\n",
    "print('e')\n",
    "chi2_test_tekigou(e_100,alpha)\n",
    "\n",
    "print('\\n2. 全1001桁')\n",
    "pi = list(str(pi))\n",
    "e  = list(str(e))\n",
    "print('π')\n",
    "chi2_test_tekigou(pi,alpha)\n",
    "print('e')\n",
    "chi2_test_tekigou(e,alpha)"
   ]
  },
  {
   "cell_type": "code",
   "execution_count": 63,
   "metadata": {
    "ExecuteTime": {
     "end_time": "2020-03-05T03:32:20.169865Z",
     "start_time": "2020-03-05T03:32:20.147894Z"
    }
   },
   "outputs": [
    {
     "name": "stdout",
     "output_type": "stream",
     "text": [
      "独立性のχ二乗検定\n",
      "chi2統計量は1.728,閾値は3.841\n",
      "->棄却できない\n"
     ]
    }
   ],
   "source": [
    "# 12.6\n",
    "x = np.array([[950,348],[117,54]])\n",
    "alpha = 0.05\n",
    "n = x.sum()\n",
    "\n",
    "print('独立性のχ二乗検定')\n",
    "x_ = x.sum(axis=0).reshape(1,2) * x.sum(axis=1).reshape(2,1) / n # 理論度数\n",
    "chi2 = np.sum((x-x_)**2/x_)\n",
    "chi2_ = ss.chi2.ppf(1-alpha,(x.shape[0]-1)*(x.shape[1]-1))\n",
    "print_test_res('chi2',chi2,chi2_)"
   ]
  },
  {
   "cell_type": "code",
   "execution_count": 64,
   "metadata": {
    "ExecuteTime": {
     "end_time": "2020-03-05T03:34:03.746272Z",
     "start_time": "2020-03-05T03:34:03.719476Z"
    }
   },
   "outputs": [
    {
     "name": "stdout",
     "output_type": "stream",
     "text": [
      "独立性のχ二乗検定\n",
      "chi2統計量は1.543,閾値は9.488\n",
      "->棄却できない\n"
     ]
    }
   ],
   "source": [
    "# 12.7\n",
    "x = np.array([[36,67,49],[31,60,49],[58,87,80]])\n",
    "alpha = 0.05\n",
    "n = x.sum()\n",
    "\n",
    "print('独立性のχ二乗検定')\n",
    "x_ = x.sum(axis=0).reshape(1,-1) * x.sum(axis=1).reshape(-1,1) / n # 理論度数\n",
    "chi2 = np.sum((x-x_)**2/x_)\n",
    "chi2_ = ss.chi2.ppf(1-alpha,(x.shape[0]-1)*(x.shape[1]-1))\n",
    "print_test_res('chi2',chi2,chi2_)"
   ]
  },
  {
   "cell_type": "code",
   "execution_count": 76,
   "metadata": {
    "ExecuteTime": {
     "end_time": "2020-03-06T06:50:32.687466Z",
     "start_time": "2020-03-06T06:50:32.669204Z"
    }
   },
   "outputs": [
    {
     "name": "stdout",
     "output_type": "stream",
     "text": [
      "補正前のχ2乗統計量\n",
      "0.0065\n",
      "--------------------\n",
      "補正後のχ2乗統計量\n",
      "0.1034\n"
     ]
    }
   ],
   "source": [
    "# 12.8\n",
    "x,y,z,u = 9,12,4,5\n",
    "n = x+y+z+u\n",
    "print('補正前のχ2乗統計量')\n",
    "chi2 = (n*(x*u-y*z)**2) / ((x+z)*(y+u)*(x+y)*(z+u))\n",
    "print('{:.4f}'.format(chi2))\n",
    "\n",
    "print('-'*20)\n",
    "print('補正後のχ2乗統計量')\n",
    "chi2_ = (n * (x*u-y*z-n/2)**2) / ((x+z)*(y+u)*(x+y)*(z+u)) if x*u - y*z > 0 else (n * (x*u-y*z+n/2)**2) / ((x+z)*(y+u)*(x+y)*(z+u))\n",
    "print('{:.4f}'.format(chi2_))"
   ]
  },
  {
   "cell_type": "code",
   "execution_count": 83,
   "metadata": {
    "ExecuteTime": {
     "end_time": "2020-03-06T07:14:36.071098Z",
     "start_time": "2020-03-06T07:14:36.058691Z"
    }
   },
   "outputs": [
    {
     "name": "stdout",
     "output_type": "stream",
     "text": [
      "Z統計量は2.073,閾値は1.960\n",
      "->棄却\n"
     ]
    }
   ],
   "source": [
    "# 12.9\n",
    "x = np.array([[18,84],[8,93]])\n",
    "alpha = 0.05\n",
    "\n",
    "n1,n2 = x.sum(axis=1)[0],x.sum(axis=1)[1]\n",
    "n = x.sum()\n",
    "p1 = x[0][0]/n1\n",
    "p2 = x[1][0]/n2\n",
    "p = x.sum(axis=0)[0]/n\n",
    "\n",
    "z = (p1-p2) / np.sqrt((1/n1+1/n2)*p*(1-p))\n",
    "z_ = ss.norm.ppf(1-alpha/2)\n",
    "print_test_res('Z',z,z_)"
   ]
  },
  {
   "cell_type": "code",
   "execution_count": 96,
   "metadata": {
    "ExecuteTime": {
     "end_time": "2020-03-06T07:33:02.650543Z",
     "start_time": "2020-03-06T07:33:02.628336Z"
    }
   },
   "outputs": [
    {
     "name": "stdout",
     "output_type": "stream",
     "text": [
      "1. H0 : ρ=0\n",
      "Z統計量は4.987,閾値は1.960\n",
      "->棄却\n",
      "\n",
      "2. H0 : ρ=0.5\n",
      "Z統計量は1.344,閾値は1.960\n",
      "->棄却できない\n"
     ]
    }
   ],
   "source": [
    "# 12.10\n",
    "# 自民得票率\n",
    "x = np.array([\n",
    "    41.4, 76.3, 59.2, 51.8, 52.5, 53.2, 62.4, 55.0, 52.7,\n",
    "    63.2, 37.5, 48.5, 32.4, 20.5, 47.9, 68.9, 68.5, 52.5,\n",
    "    63.3, 58.8, 59.7, 48.4, 40.7, 51.0, 50.9, 34.3, 25.8,\n",
    "    32.1, 34.4, 55.1, 60.3, 57.0, 45.6, 54.2, 55.1, 55.7,\n",
    "    70.3, 61.8, 47.6, 42.5, 71.3, 55.2, 65.2, 42.9, 54.7,\n",
    "    62.0, 48.2,\n",
    "])\n",
    "\n",
    "# 持ち家比率\n",
    "y = np.array([\n",
    "    52.8, 71.2, 72.6, 63.7, 81.3, 81.8, 70.9, 74.0, 73.2,\n",
    "    72.9, 66.7, 65.7, 43.7, 55.5, 79.6, 85.7, 75.3, 80.5,\n",
    "    73.0, 77.0, 77.5, 69.2, 60.0, 78.2, 79.5, 61.8, 49.6,\n",
    "    59.6, 72.1, 71.0, 76.3, 72.8, 71.8, 60.7, 67.0, 71.8,\n",
    "    71.2, 68.3, 68.5, 54.8, 76.0, 65.8, 69.4, 66.9, 69.7,\n",
    "    71.2, 59.6,\n",
    "])\n",
    "\n",
    "alpha = 0.05\n",
    "n = len(x)\n",
    "r_xy = np.corrcoef(x,y)[0][1]\n",
    "z = 1/2 * np.log((1+r_xy)/(1-r_xy))\n",
    "\n",
    "def get_eta(ro):\n",
    "    return 1/2 * np.log((1+ro)/(1-ro))\n",
    "\n",
    "print('1. H0 : ρ=0')\n",
    "ro = 0\n",
    "eta = get_eta(ro)\n",
    "Z = np.sqrt(n-3)*(z-eta)\n",
    "Z_ = ss.norm.ppf(1-alpha/2)\n",
    "print_test_res('Z',Z,Z_)\n",
    "\n",
    "print('\\n2. H0 : ρ=0.5')\n",
    "ro = 0.5\n",
    "eta = get_eta(ro)\n",
    "Z = np.sqrt(n-3)*(z-eta)\n",
    "Z_ = ss.norm.ppf(1-alpha/2)\n",
    "print_test_res('Z',Z,Z_)"
   ]
  },
  {
   "cell_type": "code",
   "execution_count": null,
   "metadata": {},
   "outputs": [],
   "source": []
  },
  {
   "cell_type": "code",
   "execution_count": null,
   "metadata": {},
   "outputs": [],
   "source": []
  },
  {
   "cell_type": "code",
   "execution_count": null,
   "metadata": {},
   "outputs": [],
   "source": []
  },
  {
   "cell_type": "code",
   "execution_count": null,
   "metadata": {},
   "outputs": [],
   "source": []
  },
  {
   "cell_type": "code",
   "execution_count": null,
   "metadata": {},
   "outputs": [],
   "source": []
  },
  {
   "cell_type": "code",
   "execution_count": null,
   "metadata": {},
   "outputs": [],
   "source": []
  },
  {
   "cell_type": "code",
   "execution_count": null,
   "metadata": {},
   "outputs": [],
   "source": []
  },
  {
   "cell_type": "code",
   "execution_count": null,
   "metadata": {},
   "outputs": [],
   "source": []
  },
  {
   "cell_type": "code",
   "execution_count": null,
   "metadata": {},
   "outputs": [],
   "source": []
  },
  {
   "cell_type": "code",
   "execution_count": 19,
   "metadata": {
    "ExecuteTime": {
     "end_time": "2020-03-02T11:29:12.165077Z",
     "start_time": "2020-03-02T11:29:12.145064Z"
    }
   },
   "outputs": [
    {
     "data": {
      "text/plain": [
       "2.093024054408263"
      ]
     },
     "execution_count": 19,
     "metadata": {},
     "output_type": "execute_result"
    }
   ],
   "source": [
    "ss.t.ppf(0.975,19)"
   ]
  },
  {
   "cell_type": "code",
   "execution_count": 14,
   "metadata": {
    "ExecuteTime": {
     "end_time": "2020-03-02T11:23:55.158239Z",
     "start_time": "2020-03-02T11:23:55.056172Z"
    }
   },
   "outputs": [],
   "source": [
    "# scipy.stats.t.ppf() -> t分布のパーセント点を返してくれるメソッド\n",
    "def interval_t(alpha, x, mu, sigmma, n, tile=\"one\"):\n",
    "    import numpy as np\n",
    "    import scipy.stats as ss\n",
    "    import math\n",
    "    t = (x - mu) / (sigmma/np.sqrt(n-1))\n",
    "    t_critical_value = []\n",
    "    if tile == \"one\":\n",
    "        t_critical_value.append(ss.t.ppf(1-alpha, df=n-1))\n",
    "    if tile == \"two\":\n",
    "        # 両側検定なので、棄却域を/2している\n",
    "        t_critical_value.append(ss.t.ppf(1-alpha/2, df=n-1))\n",
    "        t_critical_value.append(-ss.t.ppf(1-alpha/2, df=n-1))\n",
    "    else:\n",
    "        print(\"Tile option error. tile option is only \\'{0}\\' or \\'{1}\\' \".format(\"one\", \"two\"))\n",
    "        return\n",
    "    return t, t_critical_value\n"
   ]
  },
  {
   "cell_type": "code",
   "execution_count": 16,
   "metadata": {
    "ExecuteTime": {
     "end_time": "2020-03-02T11:24:32.623577Z",
     "start_time": "2020-03-02T11:24:32.600560Z"
    }
   },
   "outputs": [
    {
     "data": {
      "text/plain": [
       "0.24164023450998273"
      ]
     },
     "execution_count": 16,
     "metadata": {},
     "output_type": "execute_result"
    }
   ],
   "source": [
    "ss.t.pdf(1-0.05/2,df=19)"
   ]
  },
  {
   "cell_type": "code",
   "execution_count": 17,
   "metadata": {
    "ExecuteTime": {
     "end_time": "2020-03-02T11:24:54.426977Z",
     "start_time": "2020-03-02T11:24:54.407970Z"
    }
   },
   "outputs": [
    {
     "data": {
      "text/plain": [
       "[2.093024054408263, -2.093024054408263]"
      ]
     },
     "execution_count": 17,
     "metadata": {},
     "output_type": "execute_result"
    }
   ],
   "source": [
    "t_critical_value"
   ]
  },
  {
   "cell_type": "code",
   "execution_count": 15,
   "metadata": {
    "ExecuteTime": {
     "end_time": "2020-03-02T11:24:07.559398Z",
     "start_time": "2020-03-02T11:24:07.491908Z"
    }
   },
   "outputs": [
    {
     "name": "stdout",
     "output_type": "stream",
     "text": [
      "t value: -0.614\n",
      "t critical velue: -2.093 < t < 2.093\n"
     ]
    }
   ],
   "source": [
    "t, t_critical_value = interval_t(0.05, 25.29, 25.5,1.49, 20, tile=\"two\")\n",
    "print(\"t value: {:.3f}\".format(t))\n",
    "if len(t_critical_value) > 1:\n",
    "     print(\"t critical velue: {1:.3f} < t < {0:.3f}\".format(t_critical_value[0], t_critical_value[1]))\n",
    "else:\n",
    "    print(\"t critical velue: {0:.3f}\".format(t_critical_value))"
   ]
  }
 ],
 "metadata": {
  "kernelspec": {
   "display_name": "Python 3",
   "language": "python",
   "name": "python3"
  },
  "language_info": {
   "codemirror_mode": {
    "name": "ipython",
    "version": 3
   },
   "file_extension": ".py",
   "mimetype": "text/x-python",
   "name": "python",
   "nbconvert_exporter": "python",
   "pygments_lexer": "ipython3",
   "version": "3.7.3"
  },
  "toc": {
   "base_numbering": 1,
   "nav_menu": {},
   "number_sections": false,
   "sideBar": true,
   "skip_h1_title": false,
   "title_cell": "Table of Contents",
   "title_sidebar": "Contents",
   "toc_cell": false,
   "toc_position": {},
   "toc_section_display": true,
   "toc_window_display": false
  }
 },
 "nbformat": 4,
 "nbformat_minor": 2
}
